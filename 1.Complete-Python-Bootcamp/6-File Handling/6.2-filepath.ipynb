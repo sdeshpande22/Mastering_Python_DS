{
 "cells": [
  {
   "cell_type": "markdown",
   "metadata": {},
   "source": [
    "#### Working With File Paths\n",
    "When working with files in Python, handling file paths correctly is crucial to ensure your code works across different operating systems and environments. Python provides several modules and functions for working with file paths effectively."
   ]
  },
  {
   "cell_type": "code",
   "execution_count": null,
   "metadata": {},
   "outputs": [],
   "source": [
    "#### Using the os module\n",
    "import os\n",
    "cwd=os.getcwd()\n",
    "print(f\"Current working directory is {cwd}\")"
   ]
  },
  {
   "cell_type": "code",
   "execution_count": null,
   "metadata": {},
   "outputs": [],
   "source": [
    "## create a new directory\n",
    "new_directory=\"package\"\n",
    "os.mkdir(new_directory)\n",
    "print(f\"Directory '{new_directory}' create\")\n"
   ]
  },
  {
   "cell_type": "code",
   "execution_count": 3,
   "metadata": {},
   "outputs": [
    {
     "name": "stdout",
     "output_type": "stream",
     "text": [
      "['destination.txt', '6.1-fileoperation.ipynb', 'filehandlingsolution.ipynb', 'test', 'example.bin', 'example.txt', '6.2-filepath.ipynb']\n"
     ]
    }
   ],
   "source": [
    "## Listing Files And Directories\n",
    "import os\n",
    "items=os.listdir('.')\n",
    "print(items)"
   ]
  },
  {
   "cell_type": "code",
   "execution_count": 4,
   "metadata": {},
   "outputs": [
    {
     "name": "stdout",
     "output_type": "stream",
     "text": [
      "Current directory: .\n",
      "Subdirectories: ['test']\n",
      "Files: ['destination.txt', '6.1-fileoperation.ipynb', 'filehandlingsolution.ipynb', 'example.bin', 'example.txt', '6.2-filepath.ipynb']\n",
      "\n",
      "Current directory: ./test\n",
      "Subdirectories: []\n",
      "Files: ['1.txt']\n",
      "\n"
     ]
    }
   ],
   "source": [
    "#To list folders and files recursively in Python, you can use the os.walk() function, which traverses directories and subdirectories\n",
    "import os\n",
    "for root, dirs, files in os.walk('.'):  # '.' indicates the current directory\n",
    "    print(f\"Current directory: {root}\")\n",
    "    print(f\"Subdirectories: {dirs}\")\n",
    "    print(f\"Files: {files}\")\n",
    "    print()  # Blank line for better readability\n"
   ]
  },
  {
   "cell_type": "code",
   "execution_count": null,
   "metadata": {},
   "outputs": [],
   "source": [
    "### Joining Paths\n",
    "\n",
    "dir_name=\"folder\"\n",
    "file_name=\"file.txt\"\n",
    "full_path=os.path.join(dir_name,file_name)\n",
    "print(full_path)"
   ]
  },
  {
   "cell_type": "code",
   "execution_count": null,
   "metadata": {},
   "outputs": [],
   "source": [
    "\n",
    "dir_name=\"folder\"\n",
    "file_name=\"file.txt\"\n",
    "full_path=os.path.join(os.getcwd(),dir_name,file_name)\n",
    "print(full_path)"
   ]
  },
  {
   "cell_type": "code",
   "execution_count": null,
   "metadata": {},
   "outputs": [],
   "source": [
    "path='example1.txt'\n",
    "if os.path.exists(path):\n",
    "    print(f\"The path '{path}' exists\")\n",
    "else:\n",
    "    print(f\"The path '{path}' does not exists\")"
   ]
  },
  {
   "cell_type": "code",
   "execution_count": null,
   "metadata": {},
   "outputs": [],
   "source": [
    "#Checking if a Path is a File or Directory\n",
    "import os\n",
    "\n",
    "path = 'example.txt'\n",
    "if os.path.isfile(path):\n",
    "    print(f\"The path '{path}' is a file.\")\n",
    "elif os.path.isdir(path):\n",
    "    print(f\"The path '{path}' is a directory.\")\n",
    "else:\n",
    "    print(f\"The path '{path}' is neither a file nor a directory.\")\n"
   ]
  },
  {
   "cell_type": "code",
   "execution_count": null,
   "metadata": {},
   "outputs": [],
   "source": [
    "## Getting the absolute path\n",
    "relative_path='example.txt'\n",
    "absolute_path=os.path.abspath(relative_path)\n",
    "print(absolute_path)"
   ]
  },
  {
   "cell_type": "code",
   "execution_count": null,
   "metadata": {},
   "outputs": [],
   "source": [
    "# #### important functions of OS module\n",
    "# 1. os.getcwd()\n",
    "# 2. os.mkdir(new_directory)\n",
    "# 3. os.listdir('.') --> No recursive paths\n",
    "# 4. os.walk\n",
    "for root, dirs, files in os.walk('.'):  # '.' indicates the current directory\n",
    "     print(f\"Current directory: {root}\")\n",
    "     print(f\"Subdirectories: {dirs}\")\n",
    "     print(f\"Files: {files}\")\n",
    "     print()\n",
    "\n",
    "# 5. os.path.join(dir_name,file_name)\n",
    "# 6. os.path.join(os.getcwd(),dir_name,file_name)\n",
    "# 7. os.path.exists(path)\n",
    "# 8. os.path.isfile(path) --> is a file ?\n",
    "# 9. os.path.isdir(path) --> is a directory ?\n",
    "# 10. os.path.abspath(relative_path) --> Absolute path"
   ]
  }
 ],
 "metadata": {
  "kernelspec": {
   "display_name": "base",
   "language": "python",
   "name": "python3"
  },
  "language_info": {
   "codemirror_mode": {
    "name": "ipython",
    "version": 3
   },
   "file_extension": ".py",
   "mimetype": "text/x-python",
   "name": "python",
   "nbconvert_exporter": "python",
   "pygments_lexer": "ipython3",
   "version": "3.12.7"
  }
 },
 "nbformat": 4,
 "nbformat_minor": 2
}
