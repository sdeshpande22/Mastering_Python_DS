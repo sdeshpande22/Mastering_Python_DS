{
 "cells": [
  {
   "cell_type": "markdown",
   "metadata": {},
   "source": [
    "#### Data Visualization With Matplotlib\n",
    "\n",
    "Matplotlib is a powerful plotting library for Python that enables the creation of static, animated, and interactive visualizations. It is widely used for data visualization in data science and analytics. In this lesson, we will cover the basics of Matplotlib, including creating various types of plots and customizing them."
   ]
  },
  {
   "cell_type": "code",
   "execution_count": null,
   "metadata": {},
   "outputs": [],
   "source": [
    "!pip install matplotlib"
   ]
  },
  {
   "cell_type": "code",
   "execution_count": null,
   "metadata": {},
   "outputs": [],
   "source": [
    "import matplotlib.pyplot as plt"
   ]
  },
  {
   "cell_type": "code",
   "execution_count": null,
   "metadata": {},
   "outputs": [],
   "source": [
    "x=[1,2,3,4,5]\n",
    "y=[1,4,9,16,25]\n",
    "\n",
    "##create a line plot\n",
    "plt.plot(x,y)\n",
    "plt.xlabel('X axis')\n",
    "plt.ylabel('Y Axis')\n",
    "plt.title(\"Basic Line Plot\")\n",
    "plt.show()"
   ]
  },
  {
   "cell_type": "code",
   "execution_count": null,
   "metadata": {},
   "outputs": [],
   "source": [
    "x=[1,2,3,4,5]\n",
    "y=[1,4,9,16,25]\n",
    "\n",
    "##create a customized line plot\n",
    "\n",
    "plt.plot(x,y,color='red',linestyle='--',marker='o',linewidth=3,markersize=9)\n",
    "plt.grid(True)\n"
   ]
  },
  {
   "cell_type": "code",
   "execution_count": null,
   "metadata": {},
   "outputs": [],
   "source": [
    "## Multiple Plots\n",
    "## Sample data\n",
    "x = [1, 2, 3, 4, 5]\n",
    "y1 = [1, 4, 9, 16, 25]\n",
    "y2 = [1, 2, 3, 4, 5]\n",
    "\n",
    "plt.figure(figsize=(9,5))\n",
    "\n",
    "plt.subplot(2,2,1)\n",
    "plt.plot(x,y1,color='green')\n",
    "plt.title(\"Plot 1\")\n",
    "\n",
    "plt.subplot(2,2,2)\n",
    "plt.plot(y1,x,color='red')\n",
    "plt.title(\"Plot 2\")\n",
    "\n",
    "plt.subplot(2,2,3)\n",
    "plt.plot(x,y2,color='blue')\n",
    "plt.title(\"Plot 3\")\n",
    "\n",
    "plt.subplot(2,2,4)\n",
    "plt.plot(x,y2,color='green')\n",
    "plt.title(\"Plot 4\")\n"
   ]
  },
  {
   "cell_type": "code",
   "execution_count": null,
   "metadata": {},
   "outputs": [],
   "source": [
    "###Bar Plor\n",
    "categories=['A','B','C','D','E']\n",
    "values=[5,7,3,8,6]\n",
    "\n",
    "##create a bar plot\n",
    "plt.bar(categories,values,color='purple')\n",
    "plt.xlabel('Categories')\n",
    "plt.ylabel('Values')\n",
    "plt.title('Bar Plot')\n",
    "plt.show()"
   ]
  },
  {
   "cell_type": "markdown",
   "metadata": {},
   "source": [
    "#### Histograms\n",
    "Histograms are used to represent the distribution of a dataset. They divide the data into bins and count the number of data points in each bin."
   ]
  },
  {
   "cell_type": "code",
   "execution_count": null,
   "metadata": {},
   "outputs": [],
   "source": [
    "# Sample data\n",
    "data = [1, 2, 2, 3, 3, 3, 4, 4, 4, 4, 5, 5, 5, 5, 5]\n",
    "\n",
    "##create a histogram\n",
    "plt.hist(data,bins=5,color='orange',edgecolor='black')"
   ]
  },
  {
   "cell_type": "code",
   "execution_count": null,
   "metadata": {},
   "outputs": [],
   "source": [
    "##create a scatter plot\n",
    "# Sample data\n",
    "x = [1, 2, 3, 4, 5]\n",
    "y = [2, 3, 4, 5, 6]\n",
    "\n",
    "plt.scatter(x,y,color=\"blue\",marker='x')"
   ]
  },
  {
   "cell_type": "code",
   "execution_count": null,
   "metadata": {},
   "outputs": [],
   "source": [
    "### pie chart\n",
    "\n",
    "labels=['A','B','C','D']\n",
    "sizes=[30,20,40,10]\n",
    "colors=['gold','yellowgreen','lightcoral','lightskyblue']\n",
    "explode=(0.2,0,0,0) ##move out the 1st slice\n",
    "\n",
    "##create apie chart\n",
    "plt.pie(sizes,explode=explode,labels=labels,colors=colors,autopct=\"%1.1f%%\",shadow=True)"
   ]
  },
  {
   "cell_type": "code",
   "execution_count": null,
   "metadata": {},
   "outputs": [],
   "source": [
    "## Sales Data Visualization\n",
    "import pandas as pd\n",
    "sales_data_df=pd.read_csv('sales_data.csv')\n",
    "sales_data_df.head(5)"
   ]
  },
  {
   "cell_type": "code",
   "execution_count": null,
   "metadata": {},
   "outputs": [],
   "source": [
    "sales_data_df.info()"
   ]
  },
  {
   "cell_type": "code",
   "execution_count": null,
   "metadata": {},
   "outputs": [],
   "source": [
    "## plot total sales by products\n",
    "total_sales_by_product=sales_data_df.groupby('Product Category')['Total Revenue'].sum()\n",
    "print(total_sales_by_product)"
   ]
  },
  {
   "cell_type": "code",
   "execution_count": null,
   "metadata": {},
   "outputs": [],
   "source": [
    "total_sales_by_product.plot(kind='bar',color='teal')"
   ]
  },
  {
   "cell_type": "code",
   "execution_count": null,
   "metadata": {},
   "outputs": [],
   "source": [
    "## plot sales trend over time\n",
    "sales_trend=sales_data_df.groupby('Date')['Total Revenue'].sum().reset_index()\n",
    "plt.plot(sales_trend['Date'],sales_trend['Total Revenue'])"
   ]
  },
  {
   "cell_type": "code",
   "execution_count": null,
   "metadata": {},
   "outputs": [],
   "source": []
  },
  {
   "cell_type": "code",
   "execution_count": null,
   "metadata": {},
   "outputs": [],
   "source": []
  }
 ],
 "metadata": {
  "kernelspec": {
   "display_name": "Python 3",
   "language": "python",
   "name": "python3"
  },
  "language_info": {
   "codemirror_mode": {
    "name": "ipython",
    "version": 3
   },
   "file_extension": ".py",
   "mimetype": "text/x-python",
   "name": "python",
   "nbconvert_exporter": "python",
   "pygments_lexer": "ipython3",
   "version": "3.12.0"
  }
 },
 "nbformat": 4,
 "nbformat_minor": 2
}
